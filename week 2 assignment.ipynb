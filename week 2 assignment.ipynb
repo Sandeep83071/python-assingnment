{
 "cells": [
  {
   "cell_type": "markdown",
   "id": "c26f2f24",
   "metadata": {},
   "source": [
    "Q1. How do you comment code in Python? What are the different types of comments?"
   ]
  },
  {
   "cell_type": "markdown",
   "id": "64be8371",
   "metadata": {},
   "source": [
    "\n",
    "\n",
    "\n",
    "\n",
    "\n",
    "There are three types of comments: single-line, multi-line, and docstring comments. The syntax of comments varies depending on the type. This tutorial will explore every kind of comment individually, along with examples.\n",
    "\n"
   ]
  },
  {
   "cell_type": "markdown",
   "id": "71464687",
   "metadata": {},
   "source": [
    "Q2. What are variables in Python? How do you declare and assign values to variables?"
   ]
  },
  {
   "cell_type": "markdown",
   "id": "ef83b26a",
   "metadata": {},
   "source": [
    "Python has no command for declaring a variable. A variable is created when some value is assigned to it. The value assigned to a variable determines the data type of that variable.\n",
    "\n",
    "Thus, declaring a variable in Python is very simple.\n",
    "\n",
    "Just name the variable\n",
    "\n",
    "Assign the required value to it\n",
    "\n",
    "The data type of the variable will be automatically determined from the value assigned, we need not define it explicitly."
   ]
  },
  {
   "cell_type": "markdown",
   "id": "2a84a07a",
   "metadata": {},
   "source": [
    "Q3. How do you convert one data type to another in Python?"
   ]
  },
  {
   "cell_type": "markdown",
   "id": "a9a84147",
   "metadata": {},
   "source": [
    "There are several built-in functions to perform conversion from one data type to another. These functions return a new object representing the converted value."
   ]
  },
  {
   "cell_type": "markdown",
   "id": "b6c998ab",
   "metadata": {},
   "source": [
    "\tfloat(x)\n",
    "Converts x to a floating-point number."
   ]
  },
  {
   "cell_type": "markdown",
   "id": "d9bdeaac",
   "metadata": {},
   "source": [
    "Q4. How do you write and execute a Python script from the command line?"
   ]
  },
  {
   "cell_type": "markdown",
   "id": "64cd230f",
   "metadata": {},
   "source": [
    "open a command line and type the word python followed by the path to your script file"
   ]
  },
  {
   "cell_type": "markdown",
   "id": "2523a1b6",
   "metadata": {},
   "source": [
    "Q5. Given a list my_list = [1, 2, 3, 4, 5], write the code to slice the list and obtain the sub-list [2, 3]."
   ]
  },
  {
   "cell_type": "code",
   "execution_count": 4,
   "id": "fde68d02",
   "metadata": {},
   "outputs": [
    {
     "data": {
      "text/plain": [
       "[2, 3]"
      ]
     },
     "execution_count": 4,
     "metadata": {},
     "output_type": "execute_result"
    }
   ],
   "source": [
    "my_list = [1,2,3,4,5]\n",
    "my_list[1:3]\n"
   ]
  },
  {
   "cell_type": "markdown",
   "id": "589dab46",
   "metadata": {},
   "source": [
    "Q6. What is a complex number in mathematics, and how is it represented in Python?"
   ]
  },
  {
   "cell_type": "markdown",
   "id": "2d2c16b1",
   "metadata": {},
   "source": [
    "the numbers that are expressed in the form of a+ib where, a,b are real numbers and 'i' is an imaginary number called “iota”.\n",
    "in python complex no. is represented as 'x+yj'  where x is real no. and y is imaginary no. \n"
   ]
  },
  {
   "cell_type": "markdown",
   "id": "f200adcc",
   "metadata": {},
   "source": [
    "Q7. What is the correct way to declare a variable named age and assign the value 25 to it?"
   ]
  },
  {
   "cell_type": "code",
   "execution_count": 5,
   "id": "d906603c",
   "metadata": {},
   "outputs": [
    {
     "data": {
      "text/plain": [
       "25"
      ]
     },
     "execution_count": 5,
     "metadata": {},
     "output_type": "execute_result"
    }
   ],
   "source": [
    "Age = 25\n",
    "Age"
   ]
  },
  {
   "cell_type": "markdown",
   "id": "f70bc6cb",
   "metadata": {},
   "source": [
    "Q8. Declare a variable named price and assign the value 9.99 to it. What data type does this variable\n",
    "belong to?"
   ]
  },
  {
   "cell_type": "code",
   "execution_count": 6,
   "id": "92a1b201",
   "metadata": {},
   "outputs": [
    {
     "name": "stdout",
     "output_type": "stream",
     "text": [
      "9.99 <class 'float'>\n"
     ]
    }
   ],
   "source": [
    "price = 9.99\n",
    "print(price,type(price))"
   ]
  },
  {
   "cell_type": "markdown",
   "id": "0ae7ea08",
   "metadata": {},
   "source": [
    "Q9. Create a variable named name and assign your full name to it as a string. How would you print the\n",
    "value of this variable?"
   ]
  },
  {
   "cell_type": "code",
   "execution_count": 7,
   "id": "9008c7df",
   "metadata": {},
   "outputs": [
    {
     "name": "stdout",
     "output_type": "stream",
     "text": [
      "Sandeep Yadav\n"
     ]
    }
   ],
   "source": [
    "Name = 'Sandeep Yadav'\n",
    "print(Name)"
   ]
  },
  {
   "cell_type": "markdown",
   "id": "15e98f5d",
   "metadata": {},
   "source": [
    "Q10. Given the string \"Hello, World!\", extract the substring \"World\"."
   ]
  },
  {
   "cell_type": "code",
   "execution_count": 8,
   "id": "25f3fc9c",
   "metadata": {},
   "outputs": [
    {
     "data": {
      "text/plain": [
       "' World'"
      ]
     },
     "execution_count": 8,
     "metadata": {},
     "output_type": "execute_result"
    }
   ],
   "source": [
    "str = \"Hello World\"\n",
    "str[5:]"
   ]
  },
  {
   "cell_type": "markdown",
   "id": "34f59665",
   "metadata": {},
   "source": [
    "Q11. Create a variable named \"is_student\" and assign it a boolean value indicating whether you are\n",
    "currently a student or not."
   ]
  },
  {
   "cell_type": "code",
   "execution_count": null,
   "id": "6c1c0b08",
   "metadata": {},
   "outputs": [],
   "source": [
    "is_student = True or False \n",
    " "
   ]
  }
 ],
 "metadata": {
  "kernelspec": {
   "display_name": "Python 3 (ipykernel)",
   "language": "python",
   "name": "python3"
  },
  "language_info": {
   "codemirror_mode": {
    "name": "ipython",
    "version": 3
   },
   "file_extension": ".py",
   "mimetype": "text/x-python",
   "name": "python",
   "nbconvert_exporter": "python",
   "pygments_lexer": "ipython3",
   "version": "3.11.4"
  }
 },
 "nbformat": 4,
 "nbformat_minor": 5
}
