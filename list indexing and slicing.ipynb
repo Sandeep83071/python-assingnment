{
 "cells": [
  {
   "cell_type": "code",
   "execution_count": 1,
   "id": "ed460a97",
   "metadata": {},
   "outputs": [
    {
     "data": {
      "text/plain": [
       "[1, 345, 'sandeep', True, 343.33]"
      ]
     },
     "execution_count": 1,
     "metadata": {},
     "output_type": "execute_result"
    }
   ],
   "source": [
    "l =[1,345,'sandeep',True,343.33]\n",
    "l"
   ]
  },
  {
   "cell_type": "code",
   "execution_count": 2,
   "id": "d11733fa",
   "metadata": {},
   "outputs": [
    {
     "data": {
      "text/plain": [
       "1"
      ]
     },
     "execution_count": 2,
     "metadata": {},
     "output_type": "execute_result"
    }
   ],
   "source": [
    "l[0]"
   ]
  },
  {
   "cell_type": "code",
   "execution_count": 3,
   "id": "634e84d5",
   "metadata": {},
   "outputs": [
    {
     "data": {
      "text/plain": [
       "'sandeep'"
      ]
     },
     "execution_count": 3,
     "metadata": {},
     "output_type": "execute_result"
    }
   ],
   "source": [
    "l[2]"
   ]
  },
  {
   "cell_type": "code",
   "execution_count": 4,
   "id": "0ccafacc",
   "metadata": {},
   "outputs": [
    {
     "data": {
      "text/plain": [
       "True"
      ]
     },
     "execution_count": 4,
     "metadata": {},
     "output_type": "execute_result"
    }
   ],
   "source": [
    "l[3]"
   ]
  },
  {
   "cell_type": "code",
   "execution_count": 5,
   "id": "c1e845d8",
   "metadata": {},
   "outputs": [
    {
     "data": {
      "text/plain": [
       "[343.33, True, 'sandeep', 345, 1]"
      ]
     },
     "execution_count": 5,
     "metadata": {},
     "output_type": "execute_result"
    }
   ],
   "source": [
    "l[::-1]"
   ]
  },
  {
   "cell_type": "code",
   "execution_count": 6,
   "id": "560e7b06",
   "metadata": {},
   "outputs": [
    {
     "name": "stdout",
     "output_type": "stream",
     "text": [
      "<class 'int'>\n",
      "<class 'int'>\n",
      "<class 'str'>\n",
      "<class 'bool'>\n",
      "<class 'float'>\n"
     ]
    }
   ],
   "source": [
    "for x in l:\n",
    "    print(type(x))"
   ]
  },
  {
   "cell_type": "code",
   "execution_count": 9,
   "id": "c34342a3",
   "metadata": {},
   "outputs": [
    {
     "data": {
      "text/plain": [
       "[1, 345, 'sandeep', True]"
      ]
     },
     "execution_count": 9,
     "metadata": {},
     "output_type": "execute_result"
    }
   ],
   "source": [
    "l[0:4]"
   ]
  },
  {
   "cell_type": "code",
   "execution_count": 12,
   "id": "b58ff824",
   "metadata": {},
   "outputs": [
    {
     "data": {
      "text/plain": [
       "[1, 'sandeep', 343.33]"
      ]
     },
     "execution_count": 12,
     "metadata": {},
     "output_type": "execute_result"
    }
   ],
   "source": [
    "l[0::2]"
   ]
  },
  {
   "cell_type": "code",
   "execution_count": 13,
   "id": "9c70ba8d",
   "metadata": {},
   "outputs": [],
   "source": [
    "l[1]=3"
   ]
  },
  {
   "cell_type": "code",
   "execution_count": 14,
   "id": "9356155a",
   "metadata": {},
   "outputs": [
    {
     "data": {
      "text/plain": [
       "[1, 3, 'sandeep', True, 343.33]"
      ]
     },
     "execution_count": 14,
     "metadata": {},
     "output_type": "execute_result"
    }
   ],
   "source": [
    "l"
   ]
  },
  {
   "cell_type": "code",
   "execution_count": 15,
   "id": "89f244a4",
   "metadata": {},
   "outputs": [],
   "source": [
    "l.append(345)"
   ]
  },
  {
   "cell_type": "code",
   "execution_count": 16,
   "id": "5d1ff2d6",
   "metadata": {},
   "outputs": [
    {
     "data": {
      "text/plain": [
       "[1, 3, 'sandeep', True, 343.33, 345]"
      ]
     },
     "execution_count": 16,
     "metadata": {},
     "output_type": "execute_result"
    }
   ],
   "source": [
    "l"
   ]
  },
  {
   "cell_type": "code",
   "execution_count": 17,
   "id": "f074a950",
   "metadata": {},
   "outputs": [],
   "source": [
    "s = 'pwskills'"
   ]
  },
  {
   "cell_type": "code",
   "execution_count": 19,
   "id": "fccb7929",
   "metadata": {},
   "outputs": [
    {
     "data": {
      "text/plain": [
       "[1, 3, 'sandeep', True, 343.33, 345, 'p', 'w', 's', 'k', 'i', 'l', 'l', 's']"
      ]
     },
     "execution_count": 19,
     "metadata": {},
     "output_type": "execute_result"
    }
   ],
   "source": [
    "l+list(s)"
   ]
  },
  {
   "cell_type": "code",
   "execution_count": 20,
   "id": "3cb4b234",
   "metadata": {},
   "outputs": [],
   "source": [
    "l.append('pwskills')"
   ]
  },
  {
   "cell_type": "code",
   "execution_count": 21,
   "id": "7c269738",
   "metadata": {},
   "outputs": [
    {
     "data": {
      "text/plain": [
       "[1, 3, 'sandeep', True, 343.33, 345, 'pwskills']"
      ]
     },
     "execution_count": 21,
     "metadata": {},
     "output_type": "execute_result"
    }
   ],
   "source": [
    "l"
   ]
  },
  {
   "cell_type": "code",
   "execution_count": 22,
   "id": "5ce89aa0",
   "metadata": {},
   "outputs": [
    {
     "data": {
      "text/plain": [
       "[1, 3, 'sandeep', True, 343.33, 345, 'pwskills', (5+5j)]"
      ]
     },
     "execution_count": 22,
     "metadata": {},
     "output_type": "execute_result"
    }
   ],
   "source": [
    "l.append(5+5j)\n",
    "l"
   ]
  },
  {
   "cell_type": "code",
   "execution_count": 25,
   "id": "a82d183e",
   "metadata": {},
   "outputs": [
    {
     "data": {
      "text/plain": [
       "'sa'"
      ]
     },
     "execution_count": 25,
     "metadata": {},
     "output_type": "execute_result"
    }
   ],
   "source": [
    "l[2][0:2]"
   ]
  },
  {
   "cell_type": "code",
   "execution_count": 27,
   "id": "8456ff2c",
   "metadata": {},
   "outputs": [
    {
     "data": {
      "text/plain": [
       "[1, 3, 'sandeep', True, 343.33, 345, 'pwskills', (5+5j), '5']"
      ]
     },
     "execution_count": 27,
     "metadata": {},
     "output_type": "execute_result"
    }
   ],
   "source": [
    "l+list('5')"
   ]
  },
  {
   "cell_type": "code",
   "execution_count": 28,
   "id": "e95622a7",
   "metadata": {},
   "outputs": [],
   "source": [
    "l1 = [1,3,4,5,6]"
   ]
  },
  {
   "cell_type": "code",
   "execution_count": 29,
   "id": "6435d259",
   "metadata": {},
   "outputs": [
    {
     "data": {
      "text/plain": [
       "[1, 3, 'sandeep', True, 343.33, 345, 'pwskills', (5+5j), 1, 3, 4, 5, 6]"
      ]
     },
     "execution_count": 29,
     "metadata": {},
     "output_type": "execute_result"
    }
   ],
   "source": [
    "l+l1"
   ]
  },
  {
   "cell_type": "code",
   "execution_count": 30,
   "id": "8cfae39e",
   "metadata": {},
   "outputs": [
    {
     "data": {
      "text/plain": [
       "[1, 3, 4, 5, 6, 1, 3, 4, 5, 6, 1, 3, 4, 5, 6]"
      ]
     },
     "execution_count": 30,
     "metadata": {},
     "output_type": "execute_result"
    }
   ],
   "source": [
    "l1*3"
   ]
  },
  {
   "cell_type": "code",
   "execution_count": 31,
   "id": "f65047bf",
   "metadata": {},
   "outputs": [
    {
     "data": {
      "text/plain": [
       "[1,\n",
       " 3,\n",
       " 'sandeep',\n",
       " True,\n",
       " 343.33,\n",
       " 345,\n",
       " 'pwskills',\n",
       " (5+5j),\n",
       " 1,\n",
       " 3,\n",
       " 'sandeep',\n",
       " True,\n",
       " 343.33,\n",
       " 345,\n",
       " 'pwskills',\n",
       " (5+5j),\n",
       " 1,\n",
       " 3,\n",
       " 'sandeep',\n",
       " True,\n",
       " 343.33,\n",
       " 345,\n",
       " 'pwskills',\n",
       " (5+5j)]"
      ]
     },
     "execution_count": 31,
     "metadata": {},
     "output_type": "execute_result"
    }
   ],
   "source": [
    "l*3"
   ]
  },
  {
   "cell_type": "code",
   "execution_count": 32,
   "id": "f1c04312",
   "metadata": {},
   "outputs": [
    {
     "data": {
      "text/plain": [
       "([1, 3, 'sandeep', True, 343.33, 345, 'pwskills', (5+5j)], [1, 3, 4, 5, 6])"
      ]
     },
     "execution_count": 32,
     "metadata": {},
     "output_type": "execute_result"
    }
   ],
   "source": [
    "l,l1"
   ]
  },
  {
   "cell_type": "code",
   "execution_count": 34,
   "id": "adcf00d1",
   "metadata": {},
   "outputs": [
    {
     "data": {
      "text/plain": [
       "8"
      ]
     },
     "execution_count": 34,
     "metadata": {},
     "output_type": "execute_result"
    }
   ],
   "source": [
    "len(l)"
   ]
  },
  {
   "cell_type": "code",
   "execution_count": 35,
   "id": "e066a262",
   "metadata": {},
   "outputs": [
    {
     "data": {
      "text/plain": [
       "[1, 3, 'sandeep', True, 343.33, 345, 'pwskills', (5+5j), 34565]"
      ]
     },
     "execution_count": 35,
     "metadata": {},
     "output_type": "execute_result"
    }
   ],
   "source": [
    "l.append(34565)\n",
    "l"
   ]
  },
  {
   "cell_type": "code",
   "execution_count": 42,
   "id": "2489aff0",
   "metadata": {},
   "outputs": [],
   "source": [
    "l.append(l1)"
   ]
  },
  {
   "cell_type": "code",
   "execution_count": 44,
   "id": "8ebb813b",
   "metadata": {},
   "outputs": [
    {
     "name": "stdout",
     "output_type": "stream",
     "text": [
      "[1, 3, 'sandeep', True, 343.33, 345, 'pwskills', (5+5j), 34565, [1, 3, 4, 5, 6]]"
     ]
    }
   ],
   "source": [
    "print(l,end='')"
   ]
  },
  {
   "cell_type": "code",
   "execution_count": 43,
   "id": "e00e2b25",
   "metadata": {},
   "outputs": [
    {
     "data": {
      "text/plain": [
       "[1,\n",
       " 3,\n",
       " 'sandeep',\n",
       " True,\n",
       " 343.33,\n",
       " 345,\n",
       " 'pwskills',\n",
       " (5+5j),\n",
       " 34565,\n",
       " [1, 3, 4, 5, 6]]"
      ]
     },
     "execution_count": 43,
     "metadata": {},
     "output_type": "execute_result"
    }
   ],
   "source": [
    "l"
   ]
  },
  {
   "cell_type": "code",
   "execution_count": 46,
   "id": "c6b1b0bf",
   "metadata": {},
   "outputs": [
    {
     "data": {
      "text/plain": [
       "4"
      ]
     },
     "execution_count": 46,
     "metadata": {},
     "output_type": "execute_result"
    }
   ],
   "source": [
    "l[-1][2]"
   ]
  },
  {
   "cell_type": "code",
   "execution_count": 51,
   "id": "01da3151",
   "metadata": {},
   "outputs": [
    {
     "data": {
      "text/plain": [
       "[1,\n",
       " 3,\n",
       " 'sandeep',\n",
       " True,\n",
       " 343.33,\n",
       " 345,\n",
       " 'pwskills',\n",
       " (5+5j),\n",
       " 34565,\n",
       " [1, 3, 4, 5, 6],\n",
       " 's',\n",
       " 'a',\n",
       " 'n',\n",
       " 'd',\n",
       " 'e',\n",
       " 'e',\n",
       " 'p',\n",
       " 4,\n",
       " 6,\n",
       " 78,\n",
       " 4,\n",
       " 6,\n",
       " 78]"
      ]
     },
     "execution_count": 51,
     "metadata": {},
     "output_type": "execute_result"
    }
   ],
   "source": [
    "l.extend([4,6,78])\n",
    "l"
   ]
  },
  {
   "cell_type": "code",
   "execution_count": 52,
   "id": "55c62aab",
   "metadata": {},
   "outputs": [],
   "source": [
    "l.extend([45])"
   ]
  },
  {
   "cell_type": "code",
   "execution_count": 53,
   "id": "c96ad28a",
   "metadata": {},
   "outputs": [
    {
     "data": {
      "text/plain": [
       "[1,\n",
       " 3,\n",
       " 'sandeep',\n",
       " True,\n",
       " 343.33,\n",
       " 345,\n",
       " 'pwskills',\n",
       " (5+5j),\n",
       " 34565,\n",
       " [1, 3, 4, 5, 6],\n",
       " 's',\n",
       " 'a',\n",
       " 'n',\n",
       " 'd',\n",
       " 'e',\n",
       " 'e',\n",
       " 'p',\n",
       " 4,\n",
       " 6,\n",
       " 78,\n",
       " 4,\n",
       " 6,\n",
       " 78,\n",
       " 45]"
      ]
     },
     "execution_count": 53,
     "metadata": {},
     "output_type": "execute_result"
    }
   ],
   "source": [
    "l"
   ]
  },
  {
   "cell_type": "code",
   "execution_count": 54,
   "id": "e284d461",
   "metadata": {},
   "outputs": [
    {
     "data": {
      "text/plain": [
       "[1, 3, 4, 5, 6]"
      ]
     },
     "execution_count": 54,
     "metadata": {},
     "output_type": "execute_result"
    }
   ],
   "source": [
    "l1"
   ]
  },
  {
   "cell_type": "code",
   "execution_count": 56,
   "id": "bd5a6177",
   "metadata": {},
   "outputs": [
    {
     "data": {
      "text/plain": [
       "[1, 3, 4, 'sandeep', 5, 6]"
      ]
     },
     "execution_count": 56,
     "metadata": {},
     "output_type": "execute_result"
    }
   ],
   "source": [
    "l1.insert(3,'sandeep')\n",
    "l1"
   ]
  },
  {
   "cell_type": "code",
   "execution_count": 58,
   "id": "5f62f4f8",
   "metadata": {},
   "outputs": [
    {
     "data": {
      "text/plain": [
       "[1, 3, 4, 'sandeep', 5, 45, 6]"
      ]
     },
     "execution_count": 58,
     "metadata": {},
     "output_type": "execute_result"
    }
   ],
   "source": [
    "l1.insert(-1,45)\n",
    "l1"
   ]
  },
  {
   "cell_type": "code",
   "execution_count": 59,
   "id": "1a4a1f95",
   "metadata": {},
   "outputs": [
    {
     "data": {
      "text/plain": [
       "[1, 3, 4, 'sandeep', 5, 45]"
      ]
     },
     "execution_count": 59,
     "metadata": {},
     "output_type": "execute_result"
    }
   ],
   "source": [
    "l1.pop()\n",
    "l1"
   ]
  },
  {
   "cell_type": "code",
   "execution_count": 60,
   "id": "26696e05",
   "metadata": {},
   "outputs": [
    {
     "data": {
      "text/plain": [
       "'sandeep'"
      ]
     },
     "execution_count": 60,
     "metadata": {},
     "output_type": "execute_result"
    }
   ],
   "source": [
    "l.pop(2)"
   ]
  },
  {
   "cell_type": "code",
   "execution_count": 61,
   "id": "b56a3a96",
   "metadata": {},
   "outputs": [
    {
     "data": {
      "text/plain": [
       "[1,\n",
       " 3,\n",
       " True,\n",
       " 343.33,\n",
       " 345,\n",
       " 'pwskills',\n",
       " (5+5j),\n",
       " 34565,\n",
       " [1, 3, 4, 'sandeep', 5, 45],\n",
       " 's',\n",
       " 'a',\n",
       " 'n',\n",
       " 'd',\n",
       " 'e',\n",
       " 'e',\n",
       " 'p',\n",
       " 4,\n",
       " 6,\n",
       " 78,\n",
       " 4,\n",
       " 6,\n",
       " 78,\n",
       " 45]"
      ]
     },
     "execution_count": 61,
     "metadata": {},
     "output_type": "execute_result"
    }
   ],
   "source": [
    "l"
   ]
  },
  {
   "cell_type": "code",
   "execution_count": 63,
   "id": "8abb2e7a",
   "metadata": {},
   "outputs": [],
   "source": [
    "l1.remove(3)"
   ]
  },
  {
   "cell_type": "code",
   "execution_count": 64,
   "id": "4a318302",
   "metadata": {},
   "outputs": [
    {
     "data": {
      "text/plain": [
       "[1, 4, 'sandeep', 5, 45]"
      ]
     },
     "execution_count": 64,
     "metadata": {},
     "output_type": "execute_result"
    }
   ],
   "source": [
    "l1"
   ]
  },
  {
   "cell_type": "code",
   "execution_count": 65,
   "id": "8ec1206f",
   "metadata": {},
   "outputs": [
    {
     "data": {
      "text/plain": [
       "[1, 4, 'sandeep', 5, 45, [4, 5, 6, 6]]"
      ]
     },
     "execution_count": 65,
     "metadata": {},
     "output_type": "execute_result"
    }
   ],
   "source": [
    "l1.append([4,5,6,6])\n",
    "l1"
   ]
  },
  {
   "cell_type": "code",
   "execution_count": 66,
   "id": "685e5391",
   "metadata": {},
   "outputs": [],
   "source": [
    "l1[5].remove(5)"
   ]
  },
  {
   "cell_type": "code",
   "execution_count": 67,
   "id": "23b24cc5",
   "metadata": {},
   "outputs": [
    {
     "data": {
      "text/plain": [
       "[1, 4, 'sandeep', 5, 45, [4, 6, 6]]"
      ]
     },
     "execution_count": 67,
     "metadata": {},
     "output_type": "execute_result"
    }
   ],
   "source": [
    "l1"
   ]
  },
  {
   "cell_type": "code",
   "execution_count": 68,
   "id": "57dfec53",
   "metadata": {},
   "outputs": [],
   "source": [
    "l1.append(4)"
   ]
  },
  {
   "cell_type": "code",
   "execution_count": 69,
   "id": "3a215ed6",
   "metadata": {},
   "outputs": [
    {
     "data": {
      "text/plain": [
       "[1, 4, 'sandeep', 5, 45, [4, 6, 6], 4]"
      ]
     },
     "execution_count": 69,
     "metadata": {},
     "output_type": "execute_result"
    }
   ],
   "source": [
    "l1"
   ]
  },
  {
   "cell_type": "code",
   "execution_count": 70,
   "id": "4a175cae",
   "metadata": {},
   "outputs": [],
   "source": [
    "l1.remove(4)"
   ]
  },
  {
   "cell_type": "code",
   "execution_count": 71,
   "id": "7bb8df21",
   "metadata": {},
   "outputs": [
    {
     "data": {
      "text/plain": [
       "[1, 'sandeep', 5, 45, [4, 6, 6], 4]"
      ]
     },
     "execution_count": 71,
     "metadata": {},
     "output_type": "execute_result"
    }
   ],
   "source": [
    "l1"
   ]
  },
  {
   "cell_type": "code",
   "execution_count": 72,
   "id": "cc793d49",
   "metadata": {},
   "outputs": [],
   "source": [
    "l1.reverse()"
   ]
  },
  {
   "cell_type": "code",
   "execution_count": 73,
   "id": "c84264f7",
   "metadata": {},
   "outputs": [
    {
     "data": {
      "text/plain": [
       "[4, [4, 6, 6], 45, 5, 'sandeep', 1]"
      ]
     },
     "execution_count": 73,
     "metadata": {},
     "output_type": "execute_result"
    }
   ],
   "source": [
    "l1"
   ]
  },
  {
   "cell_type": "code",
   "execution_count": 74,
   "id": "5c62351c",
   "metadata": {},
   "outputs": [
    {
     "data": {
      "text/plain": [
       "[1, 'sandeep', 5, 45, [4, 6, 6], 4]"
      ]
     },
     "execution_count": 74,
     "metadata": {},
     "output_type": "execute_result"
    }
   ],
   "source": [
    "l1.reverse()\n",
    "l1"
   ]
  },
  {
   "cell_type": "code",
   "execution_count": 76,
   "id": "c192860f",
   "metadata": {},
   "outputs": [
    {
     "ename": "TypeError",
     "evalue": "'<' not supported between instances of 'str' and 'int'",
     "output_type": "error",
     "traceback": [
      "\u001b[1;31m---------------------------------------------------------------------------\u001b[0m",
      "\u001b[1;31mTypeError\u001b[0m                                 Traceback (most recent call last)",
      "Cell \u001b[1;32mIn[76], line 1\u001b[0m\n\u001b[1;32m----> 1\u001b[0m \u001b[43ml1\u001b[49m\u001b[38;5;241;43m.\u001b[39;49m\u001b[43msort\u001b[49m\u001b[43m(\u001b[49m\u001b[43m)\u001b[49m\n",
      "\u001b[1;31mTypeError\u001b[0m: '<' not supported between instances of 'str' and 'int'"
     ]
    }
   ],
   "source": [
    "l1.sort()"
   ]
  },
  {
   "cell_type": "code",
   "execution_count": 77,
   "id": "9fe0b378",
   "metadata": {},
   "outputs": [],
   "source": [
    "l2=[3,5,2,3,5,6,2,1]\n",
    "l2.sort()"
   ]
  },
  {
   "cell_type": "code",
   "execution_count": 78,
   "id": "76006b5f",
   "metadata": {},
   "outputs": [
    {
     "data": {
      "text/plain": [
       "[1, 2, 2, 3, 3, 5, 5, 6]"
      ]
     },
     "execution_count": 78,
     "metadata": {},
     "output_type": "execute_result"
    }
   ],
   "source": [
    "l2"
   ]
  },
  {
   "cell_type": "code",
   "execution_count": 79,
   "id": "284fee7d",
   "metadata": {},
   "outputs": [
    {
     "data": {
      "text/plain": [
       "[1, 'sandeep', 5, 45, [4, 6, 6], 4]"
      ]
     },
     "execution_count": 79,
     "metadata": {},
     "output_type": "execute_result"
    }
   ],
   "source": [
    "l1"
   ]
  },
  {
   "cell_type": "code",
   "execution_count": 80,
   "id": "98554635",
   "metadata": {},
   "outputs": [
    {
     "data": {
      "text/plain": [
       "[1, 'sandeep', 5, 45, [4, 6, 6], 4, 1, 2, 2, 3, 3, 5, 5, 6]"
      ]
     },
     "execution_count": 80,
     "metadata": {},
     "output_type": "execute_result"
    }
   ],
   "source": [
    "l1+l2"
   ]
  },
  {
   "cell_type": "code",
   "execution_count": 81,
   "id": "87984e36",
   "metadata": {},
   "outputs": [
    {
     "data": {
      "text/plain": [
       "[1, 2, 2, 3, 3, 5, 5, 6]"
      ]
     },
     "execution_count": 81,
     "metadata": {},
     "output_type": "execute_result"
    }
   ],
   "source": [
    "l2"
   ]
  },
  {
   "cell_type": "code",
   "execution_count": 82,
   "id": "093552ec",
   "metadata": {},
   "outputs": [
    {
     "ename": "TypeError",
     "evalue": "'<' not supported between instances of 'str' and 'int'",
     "output_type": "error",
     "traceback": [
      "\u001b[1;31m---------------------------------------------------------------------------\u001b[0m",
      "\u001b[1;31mTypeError\u001b[0m                                 Traceback (most recent call last)",
      "Cell \u001b[1;32mIn[82], line 2\u001b[0m\n\u001b[0;32m      1\u001b[0m l3\u001b[38;5;241m=\u001b[39m[\u001b[38;5;241m34\u001b[39m,\u001b[38;5;124m'\u001b[39m\u001b[38;5;124msandeep\u001b[39m\u001b[38;5;124m'\u001b[39m,\u001b[38;5;241m43\u001b[39m,\u001b[38;5;241m344\u001b[39m,\u001b[38;5;124m'\u001b[39m\u001b[38;5;124myadav\u001b[39m\u001b[38;5;124m'\u001b[39m]\n\u001b[1;32m----> 2\u001b[0m \u001b[43ml3\u001b[49m\u001b[38;5;241;43m.\u001b[39;49m\u001b[43msort\u001b[49m\u001b[43m(\u001b[49m\u001b[43m)\u001b[49m\n\u001b[0;32m      3\u001b[0m l3\n",
      "\u001b[1;31mTypeError\u001b[0m: '<' not supported between instances of 'str' and 'int'"
     ]
    }
   ],
   "source": [
    "l3=[34,'sandeep',43,344,'yadav']\n",
    "l3.sort()\n",
    "l3"
   ]
  },
  {
   "cell_type": "code",
   "execution_count": 83,
   "id": "58f1aee7",
   "metadata": {},
   "outputs": [],
   "source": [
    "l4=['sandeep','yadav','pwskills','data science']\n",
    "l4.sort()"
   ]
  },
  {
   "cell_type": "code",
   "execution_count": 84,
   "id": "ef4caa22",
   "metadata": {},
   "outputs": [
    {
     "data": {
      "text/plain": [
       "['data science', 'pwskills', 'sandeep', 'yadav']"
      ]
     },
     "execution_count": 84,
     "metadata": {},
     "output_type": "execute_result"
    }
   ],
   "source": [
    "l4"
   ]
  },
  {
   "cell_type": "code",
   "execution_count": 85,
   "id": "d324e95e",
   "metadata": {},
   "outputs": [],
   "source": [
    "l4.sort(reverse=True)"
   ]
  },
  {
   "cell_type": "code",
   "execution_count": 86,
   "id": "6b39a405",
   "metadata": {},
   "outputs": [
    {
     "data": {
      "text/plain": [
       "['yadav', 'sandeep', 'pwskills', 'data science']"
      ]
     },
     "execution_count": 86,
     "metadata": {},
     "output_type": "execute_result"
    }
   ],
   "source": [
    "l4"
   ]
  },
  {
   "cell_type": "code",
   "execution_count": 87,
   "id": "c9209abe",
   "metadata": {},
   "outputs": [
    {
     "data": {
      "text/plain": [
       "1"
      ]
     },
     "execution_count": 87,
     "metadata": {},
     "output_type": "execute_result"
    }
   ],
   "source": [
    "l4.index('sandeep')"
   ]
  },
  {
   "cell_type": "code",
   "execution_count": 88,
   "id": "5627e22d",
   "metadata": {},
   "outputs": [
    {
     "data": {
      "text/plain": [
       "1"
      ]
     },
     "execution_count": 88,
     "metadata": {},
     "output_type": "execute_result"
    }
   ],
   "source": [
    "l4.count('sandeep')"
   ]
  },
  {
   "cell_type": "code",
   "execution_count": 89,
   "id": "207e0450",
   "metadata": {},
   "outputs": [],
   "source": [
    "s = 'sandeep'\n",
    "l5 = [3,4,5,6]"
   ]
  },
  {
   "cell_type": "code",
   "execution_count": 91,
   "id": "b09ba058",
   "metadata": {},
   "outputs": [
    {
     "ename": "TypeError",
     "evalue": "'str' object does not support item assignment",
     "output_type": "error",
     "traceback": [
      "\u001b[1;31m---------------------------------------------------------------------------\u001b[0m",
      "\u001b[1;31mTypeError\u001b[0m                                 Traceback (most recent call last)",
      "Cell \u001b[1;32mIn[91], line 1\u001b[0m\n\u001b[1;32m----> 1\u001b[0m \u001b[43ms\u001b[49m\u001b[43m[\u001b[49m\u001b[38;5;241;43m0\u001b[39;49m\u001b[43m]\u001b[49m\u001b[38;5;241m=\u001b[39m\u001b[38;5;124m'\u001b[39m\u001b[38;5;124ma\u001b[39m\u001b[38;5;124m'\u001b[39m\n",
      "\u001b[1;31mTypeError\u001b[0m: 'str' object does not support item assignment"
     ]
    }
   ],
   "source": [
    "s[0]='a'"
   ]
  },
  {
   "cell_type": "code",
   "execution_count": 92,
   "id": "f7733054",
   "metadata": {},
   "outputs": [
    {
     "data": {
      "text/plain": [
       "[3, 4, 5, 45]"
      ]
     },
     "execution_count": 92,
     "metadata": {},
     "output_type": "execute_result"
    }
   ],
   "source": [
    "l5[3]=45\n",
    "l5"
   ]
  },
  {
   "cell_type": "code",
   "execution_count": 93,
   "id": "5d93b2eb",
   "metadata": {},
   "outputs": [
    {
     "ename": "TypeError",
     "evalue": "'str' object does not support item assignment",
     "output_type": "error",
     "traceback": [
      "\u001b[1;31m---------------------------------------------------------------------------\u001b[0m",
      "\u001b[1;31mTypeError\u001b[0m                                 Traceback (most recent call last)",
      "Cell \u001b[1;32mIn[93], line 1\u001b[0m\n\u001b[1;32m----> 1\u001b[0m \u001b[43ms\u001b[49m\u001b[43m[\u001b[49m\u001b[38;5;124;43m'\u001b[39;49m\u001b[38;5;124;43ma\u001b[39;49m\u001b[38;5;124;43m'\u001b[39;49m\u001b[43m]\u001b[49m\u001b[38;5;241m=\u001b[39m\u001b[38;5;124m'\u001b[39m\u001b[38;5;124mu\u001b[39m\u001b[38;5;124m'\u001b[39m\n",
      "\u001b[1;31mTypeError\u001b[0m: 'str' object does not support item assignment"
     ]
    }
   ],
   "source": [
    "s['a']='u'"
   ]
  },
  {
   "cell_type": "code",
   "execution_count": 98,
   "id": "13a4c7b7",
   "metadata": {},
   "outputs": [
    {
     "data": {
      "text/plain": [
       "'sundeep'"
      ]
     },
     "execution_count": 98,
     "metadata": {},
     "output_type": "execute_result"
    }
   ],
   "source": [
    "s.replace('a','u')\n"
   ]
  },
  {
   "cell_type": "code",
   "execution_count": 95,
   "id": "d255033b",
   "metadata": {},
   "outputs": [
    {
     "data": {
      "text/plain": [
       "'sandeep'"
      ]
     },
     "execution_count": 95,
     "metadata": {},
     "output_type": "execute_result"
    }
   ],
   "source": [
    "s"
   ]
  },
  {
   "cell_type": "code",
   "execution_count": 96,
   "id": "9123b4be",
   "metadata": {},
   "outputs": [
    {
     "data": {
      "text/plain": [
       "'sundeep'"
      ]
     },
     "execution_count": 96,
     "metadata": {},
     "output_type": "execute_result"
    }
   ],
   "source": [
    "s.replace('a','u')"
   ]
  },
  {
   "cell_type": "code",
   "execution_count": 97,
   "id": "837811c4",
   "metadata": {},
   "outputs": [
    {
     "data": {
      "text/plain": [
       "'sandeep'"
      ]
     },
     "execution_count": 97,
     "metadata": {},
     "output_type": "execute_result"
    }
   ],
   "source": [
    "s"
   ]
  },
  {
   "cell_type": "code",
   "execution_count": 99,
   "id": "a80f30f4",
   "metadata": {},
   "outputs": [],
   "source": [
    "t =(5,7,8,7,9,'sandeep',True,[1,4,8],78.78)"
   ]
  },
  {
   "cell_type": "code",
   "execution_count": 100,
   "id": "9d7b5846",
   "metadata": {},
   "outputs": [
    {
     "data": {
      "text/plain": [
       "(5, 7, 8, 7, 9, 'sandeep', True, [1, 4, 8], 78.78)"
      ]
     },
     "execution_count": 100,
     "metadata": {},
     "output_type": "execute_result"
    }
   ],
   "source": [
    "t"
   ]
  },
  {
   "cell_type": "code",
   "execution_count": 101,
   "id": "4bdaa8ac",
   "metadata": {},
   "outputs": [
    {
     "name": "stdout",
     "output_type": "stream",
     "text": [
      "<class 'int'>\n",
      "<class 'int'>\n",
      "<class 'int'>\n",
      "<class 'int'>\n",
      "<class 'int'>\n",
      "<class 'str'>\n",
      "<class 'bool'>\n",
      "<class 'list'>\n",
      "<class 'float'>\n"
     ]
    }
   ],
   "source": [
    "for x in t:\n",
    "    print(type(x))"
   ]
  },
  {
   "cell_type": "code",
   "execution_count": 102,
   "id": "2f9964e5",
   "metadata": {},
   "outputs": [
    {
     "data": {
      "text/plain": [
       "9"
      ]
     },
     "execution_count": 102,
     "metadata": {},
     "output_type": "execute_result"
    }
   ],
   "source": [
    "len(t)"
   ]
  },
  {
   "cell_type": "code",
   "execution_count": 1,
   "id": "793cd4e7",
   "metadata": {},
   "outputs": [],
   "source": [
    "st ={}"
   ]
  },
  {
   "cell_type": "code",
   "execution_count": 2,
   "id": "8ec56044",
   "metadata": {},
   "outputs": [
    {
     "data": {
      "text/plain": [
       "dict"
      ]
     },
     "execution_count": 2,
     "metadata": {},
     "output_type": "execute_result"
    }
   ],
   "source": [
    "type(st)"
   ]
  },
  {
   "cell_type": "code",
   "execution_count": 3,
   "id": "5fbaef53",
   "metadata": {},
   "outputs": [],
   "source": [
    "s1 = {1,2,3,4,5,5,67,7,8,8,6,78,8,7,7,7}"
   ]
  },
  {
   "cell_type": "code",
   "execution_count": 4,
   "id": "e81a50c9",
   "metadata": {},
   "outputs": [
    {
     "data": {
      "text/plain": [
       "{1, 2, 3, 4, 5, 6, 7, 8, 67, 78}"
      ]
     },
     "execution_count": 4,
     "metadata": {},
     "output_type": "execute_result"
    }
   ],
   "source": [
    "s1"
   ]
  },
  {
   "cell_type": "code",
   "execution_count": 6,
   "id": "14aa657d",
   "metadata": {},
   "outputs": [
    {
     "data": {
      "text/plain": [
       "set"
      ]
     },
     "execution_count": 6,
     "metadata": {},
     "output_type": "execute_result"
    }
   ],
   "source": [
    "type(s1)"
   ]
  },
  {
   "cell_type": "code",
   "execution_count": null,
   "id": "baa309c9",
   "metadata": {},
   "outputs": [],
   "source": []
  }
 ],
 "metadata": {
  "kernelspec": {
   "display_name": "Python 3 (ipykernel)",
   "language": "python",
   "name": "python3"
  },
  "language_info": {
   "codemirror_mode": {
    "name": "ipython",
    "version": 3
   },
   "file_extension": ".py",
   "mimetype": "text/x-python",
   "name": "python",
   "nbconvert_exporter": "python",
   "pygments_lexer": "ipython3",
   "version": "3.11.4"
  }
 },
 "nbformat": 4,
 "nbformat_minor": 5
}
